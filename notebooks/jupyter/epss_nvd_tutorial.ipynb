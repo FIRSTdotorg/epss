{
 "cells": [
  {
   "cell_type": "code",
   "execution_count": 9,
   "metadata": {},
   "outputs": [
    {
     "name": "stdout",
     "output_type": "stream",
     "text": [
      "Requirement already satisfied: epss in d:\\users\\robom\\anaconda3\\envs\\epss\\lib\\site-packages (0.1.1)\n",
      "Requirement already satisfied: Click>=7.0 in d:\\users\\robom\\anaconda3\\envs\\epss\\lib\\site-packages (from epss) (8.0.4)\n",
      "Requirement already satisfied: colorama in d:\\users\\robom\\anaconda3\\envs\\epss\\lib\\site-packages (from Click>=7.0->epss) (0.4.4)\n",
      "Collecting nvdlib\n",
      "  Downloading nvdlib-0.5.6-py3-none-any.whl (10 kB)\n",
      "Requirement already satisfied: requests in d:\\users\\robom\\anaconda3\\envs\\epss\\lib\\site-packages (from nvdlib) (2.27.1)\n",
      "Requirement already satisfied: urllib3<1.27,>=1.21.1 in d:\\users\\robom\\anaconda3\\envs\\epss\\lib\\site-packages (from requests->nvdlib) (1.26.9)\n",
      "Requirement already satisfied: certifi>=2017.4.17 in d:\\users\\robom\\anaconda3\\envs\\epss\\lib\\site-packages (from requests->nvdlib) (2021.10.8)\n",
      "Requirement already satisfied: idna<4,>=2.5 in d:\\users\\robom\\anaconda3\\envs\\epss\\lib\\site-packages (from requests->nvdlib) (3.3)\n",
      "Requirement already satisfied: charset-normalizer~=2.0.0 in d:\\users\\robom\\anaconda3\\envs\\epss\\lib\\site-packages (from requests->nvdlib) (2.0.4)\n",
      "Installing collected packages: nvdlib\n",
      "Successfully installed nvdlib-0.5.6\n"
     ]
    }
   ],
   "source": [
    "# Install depdendeces\n",
    "!pip install --upgrade epss\n",
    "!pip install nvdlib"
   ]
  },
  {
   "cell_type": "code",
   "execution_count": 19,
   "metadata": {},
   "outputs": [],
   "source": [
    "from epss import epss\n",
    "import nvdlib\n",
    "import logging\n",
    "\n",
    "logging.basicConfig(level=logging.INFO)\n",
    "\n",
    "# key (str) – NVD API Key. Allows for a request every 0.6 seconds instead of 6 seconds.\n",
    "\n",
    "def add_cvss(cveid,API_KEY=None):\n",
    "    r = nvdlib.getCVE(cveid,key=API_KEY)\n",
    "    scores = r.score\n",
    "    return scores\n",
    "\n",
    "client = epss.EPSS()\n",
    "epss_df,status = client.get(date='2022-05-01',limit=10)"
   ]
  },
  {
   "cell_type": "markdown",
   "metadata": {},
   "source": []
  },
  {
   "cell_type": "code",
   "execution_count": 20,
   "metadata": {},
   "outputs": [
    {
     "name": "stderr",
     "output_type": "stream",
     "text": [
      "INFO:root:Got 10 cve\n"
     ]
    }
   ],
   "source": [
    "logging.info(f'Got {len(epss_df)} cve')"
   ]
  },
  {
   "cell_type": "code",
   "execution_count": 21,
   "metadata": {},
   "outputs": [],
   "source": [
    "epss_df.reset_index(inplace=True)"
   ]
  },
  {
   "cell_type": "code",
   "execution_count": 22,
   "metadata": {},
   "outputs": [],
   "source": [
    "# remember that the NVD has throttling even with 10 will be slow\n",
    "\n",
    "epss_df[['version','score','severity']]=epss_df.apply(lambda x:add_cvss(x['cve']),axis=1, result_type=\"expand\")"
   ]
  },
  {
   "cell_type": "code",
   "execution_count": 28,
   "metadata": {},
   "outputs": [
    {
     "data": {
      "text/html": [
       "<div>\n",
       "<style scoped>\n",
       "    .dataframe tbody tr th:only-of-type {\n",
       "        vertical-align: middle;\n",
       "    }\n",
       "\n",
       "    .dataframe tbody tr th {\n",
       "        vertical-align: top;\n",
       "    }\n",
       "\n",
       "    .dataframe thead th {\n",
       "        text-align: right;\n",
       "    }\n",
       "</style>\n",
       "<table border=\"1\" class=\"dataframe\">\n",
       "  <thead>\n",
       "    <tr style=\"text-align: right;\">\n",
       "      <th></th>\n",
       "      <th>cve</th>\n",
       "      <th>epss</th>\n",
       "      <th>percentile</th>\n",
       "      <th>date</th>\n",
       "      <th>version</th>\n",
       "      <th>score</th>\n",
       "      <th>severity</th>\n",
       "    </tr>\n",
       "  </thead>\n",
       "  <tbody>\n",
       "    <tr>\n",
       "      <th>0</th>\n",
       "      <td>CVE-2022-29967</td>\n",
       "      <td>0.008850000</td>\n",
       "      <td>0.245810000</td>\n",
       "      <td>2022-05-01</td>\n",
       "      <td>V3</td>\n",
       "      <td>7.5</td>\n",
       "      <td>HIGH</td>\n",
       "    </tr>\n",
       "    <tr>\n",
       "      <th>1</th>\n",
       "      <td>CVE-2022-29947</td>\n",
       "      <td>0.008850000</td>\n",
       "      <td>0.245810000</td>\n",
       "      <td>2022-05-01</td>\n",
       "      <td>V3</td>\n",
       "      <td>6.1</td>\n",
       "      <td>MEDIUM</td>\n",
       "    </tr>\n",
       "    <tr>\n",
       "      <th>2</th>\n",
       "      <td>CVE-2022-29945</td>\n",
       "      <td>0.008900000</td>\n",
       "      <td>0.269620000</td>\n",
       "      <td>2022-05-01</td>\n",
       "      <td>None</td>\n",
       "      <td>NaN</td>\n",
       "      <td>None</td>\n",
       "    </tr>\n",
       "    <tr>\n",
       "      <th>3</th>\n",
       "      <td>CVE-2022-29937</td>\n",
       "      <td>0.008850000</td>\n",
       "      <td>0.245810000</td>\n",
       "      <td>2022-05-01</td>\n",
       "      <td>V3</td>\n",
       "      <td>8.8</td>\n",
       "      <td>HIGH</td>\n",
       "    </tr>\n",
       "    <tr>\n",
       "      <th>4</th>\n",
       "      <td>CVE-2022-29936</td>\n",
       "      <td>0.027220000</td>\n",
       "      <td>0.813420000</td>\n",
       "      <td>2022-05-01</td>\n",
       "      <td>V3</td>\n",
       "      <td>8.8</td>\n",
       "      <td>HIGH</td>\n",
       "    </tr>\n",
       "    <tr>\n",
       "      <th>5</th>\n",
       "      <td>CVE-2022-29935</td>\n",
       "      <td>0.008850000</td>\n",
       "      <td>0.245810000</td>\n",
       "      <td>2022-05-01</td>\n",
       "      <td>V3</td>\n",
       "      <td>7.5</td>\n",
       "      <td>HIGH</td>\n",
       "    </tr>\n",
       "    <tr>\n",
       "      <th>6</th>\n",
       "      <td>CVE-2022-29934</td>\n",
       "      <td>0.008850000</td>\n",
       "      <td>0.245810000</td>\n",
       "      <td>2022-05-01</td>\n",
       "      <td>V3</td>\n",
       "      <td>7.8</td>\n",
       "      <td>HIGH</td>\n",
       "    </tr>\n",
       "    <tr>\n",
       "      <th>7</th>\n",
       "      <td>CVE-2022-29907</td>\n",
       "      <td>0.008850000</td>\n",
       "      <td>0.245810000</td>\n",
       "      <td>2022-05-01</td>\n",
       "      <td>V3</td>\n",
       "      <td>6.1</td>\n",
       "      <td>MEDIUM</td>\n",
       "    </tr>\n",
       "    <tr>\n",
       "      <th>8</th>\n",
       "      <td>CVE-2022-29906</td>\n",
       "      <td>0.008850000</td>\n",
       "      <td>0.245810000</td>\n",
       "      <td>2022-05-01</td>\n",
       "      <td>V3</td>\n",
       "      <td>9.8</td>\n",
       "      <td>CRITICAL</td>\n",
       "    </tr>\n",
       "    <tr>\n",
       "      <th>9</th>\n",
       "      <td>CVE-2022-29905</td>\n",
       "      <td>0.008850000</td>\n",
       "      <td>0.245810000</td>\n",
       "      <td>2022-05-01</td>\n",
       "      <td>V3</td>\n",
       "      <td>4.3</td>\n",
       "      <td>MEDIUM</td>\n",
       "    </tr>\n",
       "  </tbody>\n",
       "</table>\n",
       "</div>"
      ],
      "text/plain": [
       "              cve         epss   percentile        date version  score  \\\n",
       "0  CVE-2022-29967  0.008850000  0.245810000  2022-05-01      V3    7.5   \n",
       "1  CVE-2022-29947  0.008850000  0.245810000  2022-05-01      V3    6.1   \n",
       "2  CVE-2022-29945  0.008900000  0.269620000  2022-05-01    None    NaN   \n",
       "3  CVE-2022-29937  0.008850000  0.245810000  2022-05-01      V3    8.8   \n",
       "4  CVE-2022-29936  0.027220000  0.813420000  2022-05-01      V3    8.8   \n",
       "5  CVE-2022-29935  0.008850000  0.245810000  2022-05-01      V3    7.5   \n",
       "6  CVE-2022-29934  0.008850000  0.245810000  2022-05-01      V3    7.8   \n",
       "7  CVE-2022-29907  0.008850000  0.245810000  2022-05-01      V3    6.1   \n",
       "8  CVE-2022-29906  0.008850000  0.245810000  2022-05-01      V3    9.8   \n",
       "9  CVE-2022-29905  0.008850000  0.245810000  2022-05-01      V3    4.3   \n",
       "\n",
       "   severity  \n",
       "0      HIGH  \n",
       "1    MEDIUM  \n",
       "2      None  \n",
       "3      HIGH  \n",
       "4      HIGH  \n",
       "5      HIGH  \n",
       "6      HIGH  \n",
       "7    MEDIUM  \n",
       "8  CRITICAL  \n",
       "9    MEDIUM  "
      ]
     },
     "execution_count": 28,
     "metadata": {},
     "output_type": "execute_result"
    }
   ],
   "source": [
    "#display the vulnerabilities\n",
    "epss_df"
   ]
  },
  {
   "cell_type": "code",
   "execution_count": 29,
   "metadata": {},
   "outputs": [
    {
     "data": {
      "text/html": [
       "<div>\n",
       "<style scoped>\n",
       "    .dataframe tbody tr th:only-of-type {\n",
       "        vertical-align: middle;\n",
       "    }\n",
       "\n",
       "    .dataframe tbody tr th {\n",
       "        vertical-align: top;\n",
       "    }\n",
       "\n",
       "    .dataframe thead th {\n",
       "        text-align: right;\n",
       "    }\n",
       "</style>\n",
       "<table border=\"1\" class=\"dataframe\">\n",
       "  <thead>\n",
       "    <tr style=\"text-align: right;\">\n",
       "      <th></th>\n",
       "      <th>cve</th>\n",
       "      <th>epss</th>\n",
       "      <th>percentile</th>\n",
       "      <th>date</th>\n",
       "      <th>version</th>\n",
       "      <th>score</th>\n",
       "      <th>severity</th>\n",
       "    </tr>\n",
       "  </thead>\n",
       "  <tbody>\n",
       "    <tr>\n",
       "      <th>2</th>\n",
       "      <td>CVE-2022-29945</td>\n",
       "      <td>0.008900000</td>\n",
       "      <td>0.269620000</td>\n",
       "      <td>2022-05-01</td>\n",
       "      <td>None</td>\n",
       "      <td>NaN</td>\n",
       "      <td>None</td>\n",
       "    </tr>\n",
       "  </tbody>\n",
       "</table>\n",
       "</div>"
      ],
      "text/plain": [
       "              cve         epss   percentile        date version  score  \\\n",
       "2  CVE-2022-29945  0.008900000  0.269620000  2022-05-01    None    NaN   \n",
       "\n",
       "  severity  \n",
       "2     None  "
      ]
     },
     "execution_count": 29,
     "metadata": {},
     "output_type": "execute_result"
    }
   ],
   "source": [
    "# which cve are new?\n",
    "epss_df[epss_df.severity.isnull()]"
   ]
  },
  {
   "cell_type": "code",
   "execution_count": null,
   "metadata": {},
   "outputs": [],
   "source": []
  }
 ],
 "metadata": {
  "interpreter": {
   "hash": "af6884b45a73264763f36d110d675e21c5b9ede8d799332244b48ac88600c464"
  },
  "kernelspec": {
   "display_name": "Python 3.8.13 ('epss')",
   "language": "python",
   "name": "python3"
  },
  "language_info": {
   "codemirror_mode": {
    "name": "ipython",
    "version": 3
   },
   "file_extension": ".py",
   "mimetype": "text/x-python",
   "name": "python",
   "nbconvert_exporter": "python",
   "pygments_lexer": "ipython3",
   "version": "3.8.13"
  },
  "orig_nbformat": 4
 },
 "nbformat": 4,
 "nbformat_minor": 2
}
