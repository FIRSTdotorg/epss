{
  "nbformat": 4,
  "nbformat_minor": 0,
  "metadata": {
    "colab": {
      "name": "cisa_tutorial.ipynb",
      "provenance": [],
      "collapsed_sections": []
    },
    "kernelspec": {
      "name": "python3",
      "display_name": "Python 3"
    },
    "language_info": {
      "name": "python"
    }
  },
  "cells": [
    {
      "cell_type": "code",
      "execution_count": 1,
      "metadata": {
        "colab": {
          "base_uri": "https://localhost:8080/"
        },
        "id": "F6bqca0A34Hf",
        "outputId": "ae6eb415-24c3-40b5-ecfe-aefc67b7aff8"
      },
      "outputs": [
        {
          "output_type": "stream",
          "name": "stdout",
          "text": [
            "Looking in indexes: https://pypi.org/simple, https://us-python.pkg.dev/colab-wheels/public/simple/\n",
            "Collecting epss\n",
            "  Downloading epss-0.1.1-py2.py3-none-any.whl (4.9 kB)\n",
            "Requirement already satisfied: Click>=7.0 in /usr/local/lib/python3.7/dist-packages (from epss) (7.1.2)\n",
            "Installing collected packages: epss\n",
            "Successfully installed epss-0.1.1\n"
          ]
        }
      ],
      "source": [
        "!pip install --upgrade epss"
      ]
    },
    {
      "cell_type": "code",
      "source": [
        "import requests\n",
        "import pandas as pd\n",
        "import matplotlib.pyplot as plt   "
      ],
      "metadata": {
        "id": "95OJ7z2j3-z2"
      },
      "execution_count": 39,
      "outputs": []
    },
    {
      "cell_type": "markdown",
      "source": [
        "Download CISA vulnerabilities"
      ],
      "metadata": {
        "id": "TjaBdglO4Gqg"
      }
    },
    {
      "cell_type": "code",
      "source": [
        "cisa_df = pd.read_csv('https://www.cisa.gov/sites/default/files/csv/known_exploited_vulnerabilities.csv',parse_dates=['dateAdded','dueDate'])\n",
        "\n",
        "\n",
        "cisa_df.set_index(\"dateAdded\").resample('M').size().plot.bar(figsize=(10,4),title='Total CVE by CISA published by month')\n",
        "plt.show()"
      ],
      "metadata": {
        "colab": {
          "base_uri": "https://localhost:8080/",
          "height": 390
        },
        "id": "MHjuRYxc4IYn",
        "outputId": "8819414b-3490-4684-e27a-400fd2ff56ff"
      },
      "execution_count": 43,
      "outputs": [
        {
          "output_type": "display_data",
          "data": {
            "text/plain": [
              "<Figure size 720x288 with 1 Axes>"
            ],
            "image/png": "[encoded data removed]"
          },
          "metadata": {
            "needs_background": "light"
          }
        }
      ]
    },
    {
      "cell_type": "code",
      "source": [
        "cisa_df.columns"
      ],
      "metadata": {
        "colab": {
          "base_uri": "https://localhost:8080/"
        },
        "id": "08XpR3dY4NDo",
        "outputId": "29e0950f-4841-4f28-d04b-4f265eb5dac3"
      },
      "execution_count": 44,
      "outputs": [
        {
          "output_type": "execute_result",
          "data": {
            "text/plain": [
              "Index(['cveID', 'vendorProject', 'product', 'vulnerabilityName', 'dateAdded',\n",
              "       'shortDescription', 'requiredAction', 'dueDate', 'notes'],\n",
              "      dtype='object')"
            ]
          },
          "metadata": {},
          "execution_count": 44
        }
      ]
    },
    {
      "cell_type": "code",
      "source": [
        "cisa_df.dtypes"
      ],
      "metadata": {
        "colab": {
          "base_uri": "https://localhost:8080/"
        },
        "id": "BxvZ991q4URh",
        "outputId": "dd2ddba0-efa5-4021-b744-1ffa87b3491e"
      },
      "execution_count": 45,
      "outputs": [
        {
          "output_type": "execute_result",
          "data": {
            "text/plain": [
              "cveID                        object\n",
              "vendorProject                object\n",
              "product                      object\n",
              "vulnerabilityName            object\n",
              "dateAdded            datetime64[ns]\n",
              "shortDescription             object\n",
              "requiredAction               object\n",
              "dueDate              datetime64[ns]\n",
              "notes                       float64\n",
              "dtype: object"
            ]
          },
          "metadata": {},
          "execution_count": 45
        }
      ]
    },
    {
      "cell_type": "markdown",
      "source": [
        "# Take the vulns published by CISA yesterday"
      ],
      "metadata": {
        "id": "YJKM7M2EBVJr"
      }
    },
    {
      "cell_type": "code",
      "source": [
        "# Filter CVE from this month for example\n",
        "month_df = cisa_df.loc[(cisa_df['dateAdded'] >= '2022-05-25')]\n",
        "month_df.shape"
      ],
      "metadata": {
        "colab": {
          "base_uri": "https://localhost:8080/"
        },
        "id": "zm8czfzl4VHE",
        "outputId": "cea4c03e-77cd-4146-8a95-c95712e3ece9"
      },
      "execution_count": 61,
      "outputs": [
        {
          "output_type": "execute_result",
          "data": {
            "text/plain": [
              "(34, 9)"
            ]
          },
          "metadata": {},
          "execution_count": 61
        }
      ]
    },
    {
      "cell_type": "markdown",
      "source": [
        "Now let's find the EPSS scores for those vulns"
      ],
      "metadata": {
        "id": "xi6BqEnx9jiT"
      }
    },
    {
      "cell_type": "code",
      "source": [
        "from epss import epss\n",
        "import logging\n",
        "\n",
        "logging.basicConfig(level=logging.INFO)\n",
        "client = epss.EPSS()"
      ],
      "metadata": {
        "id": "qUlSHR5n47iQ"
      },
      "execution_count": 62,
      "outputs": []
    },
    {
      "cell_type": "code",
      "source": [
        "found = []\n",
        "for idx,row in month_df.iterrows():\n",
        "  epss_df,status=client.get(cve=row['cveID'])\n",
        "  if epss_df.shape[0]>0:\n",
        "    found.append(epss_df)\n",
        "epss_df = pd.concat(found)"
      ],
      "metadata": {
        "id": "rLkrSo0M9pIc"
      },
      "execution_count": 64,
      "outputs": []
    },
    {
      "cell_type": "code",
      "source": [
        "enrich_df = pd.merge(month_df,epss_df,left_on=['cveID'],right_index=True)\n",
        "enrich_df['epss']=enrich_df['epss'].astype(float)"
      ],
      "metadata": {
        "id": "A6WdcOsO96vJ"
      },
      "execution_count": 78,
      "outputs": []
    },
    {
      "cell_type": "code",
      "source": [
        "enrich_df.head(5)"
      ],
      "metadata": {
        "colab": {
          "base_uri": "https://localhost:8080/",
          "height": 337
        },
        "id": "JYyvkJz_9_M5",
        "outputId": "8c7cad20-2ffe-42bf-c8cc-4a7977321eb8"
      },
      "execution_count": 79,
      "outputs": [
        {
          "output_type": "execute_result",
          "data": {
            "text/plain": [
              "             cveID vendorProject               product  \\\n",
              "703  CVE-2019-3010        Oracle               Solaris   \n",
              "704  CVE-2016-3393     Microsoft               Windows   \n",
              "705  CVE-2016-7256     Microsoft               Windows   \n",
              "706  CVE-2016-1010         Adobe  Flash Player and AIR   \n",
              "707  CVE-2016-0984         Adobe  Flash Player and AIR   \n",
              "\n",
              "                                     vulnerabilityName  dateAdded  \\\n",
              "703  Oracle Solaris Privilege Escalation Vulnerability 2022-05-25   \n",
              "704  Microsoft Windows Graphics Device Interface (G... 2022-05-25   \n",
              "705  Microsoft Windows Open Type Font Remote Code E... 2022-05-25   \n",
              "706  Adobe Flash Player and AIR Integer Overflow Vu... 2022-05-25   \n",
              "707  Adobe Flash Player and AIR Use-After-Free Vuln... 2022-05-25   \n",
              "\n",
              "                                      shortDescription  \\\n",
              "703  Oracle Solaris component: XScreenSaver contain...   \n",
              "704  A remote code execution vulnerability exists d...   \n",
              "705  A remote code execution vulnerability exists w...   \n",
              "706  Integer overflow vulnerability in Adobe Flash ...   \n",
              "707  Use-after-free vulnerability in Adobe Flash Pl...   \n",
              "\n",
              "                                        requiredAction    dueDate  notes  \\\n",
              "703             Apply updates per vendor instructions. 2022-06-15    NaN   \n",
              "704             Apply updates per vendor instructions. 2022-06-15    NaN   \n",
              "705             Apply updates per vendor instructions. 2022-06-15    NaN   \n",
              "706  The impacted products are end-of-life and shou... 2022-06-15    NaN   \n",
              "707  The impacted products are end-of-life and shou... 2022-06-15    NaN   \n",
              "\n",
              "        epss   percentile        date  \n",
              "703  0.17164  0.959200000  2022-05-26  \n",
              "704  0.32828  0.975110000  2022-05-26  \n",
              "705  0.31179  0.974380000  2022-05-26  \n",
              "706  0.03731  0.838300000  2022-05-26  \n",
              "707  0.84976  0.996390000  2022-05-26  "
            ],
            "text/html": [
              "\n",
              "  <div id=\"df-75b19775-177b-457c-b2dc-0ce2562458d5\">\n",
              "    <div class=\"colab-df-container\">\n",
              "      <div>\n",
              "<style scoped>\n",
              "    .dataframe tbody tr th:only-of-type {\n",
              "        vertical-align: middle;\n",
              "    }\n",
              "\n",
              "    .dataframe tbody tr th {\n",
              "        vertical-align: top;\n",
              "    }\n",
              "\n",
              "    .dataframe thead th {\n",
              "        text-align: right;\n",
              "    }\n",
              "</style>\n",
              "<table border=\"1\" class=\"dataframe\">\n",
              "  <thead>\n",
              "    <tr style=\"text-align: right;\">\n",
              "      <th></th>\n",
              "      <th>cveID</th>\n",
              "      <th>vendorProject</th>\n",
              "      <th>product</th>\n",
              "      <th>vulnerabilityName</th>\n",
              "      <th>dateAdded</th>\n",
              "      <th>shortDescription</th>\n",
              "      <th>requiredAction</th>\n",
              "      <th>dueDate</th>\n",
              "      <th>notes</th>\n",
              "      <th>epss</th>\n",
              "      <th>percentile</th>\n",
              "      <th>date</th>\n",
              "    </tr>\n",
              "  </thead>\n",
              "  <tbody>\n",
              "    <tr>\n",
              "      <th>703</th>\n",
              "      <td>CVE-2019-3010</td>\n",
              "      <td>Oracle</td>\n",
              "      <td>Solaris</td>\n",
              "      <td>Oracle Solaris Privilege Escalation Vulnerability</td>\n",
              "      <td>2022-05-25</td>\n",
              "      <td>Oracle Solaris component: XScreenSaver contain...</td>\n",
              "      <td>Apply updates per vendor instructions.</td>\n",
              "      <td>2022-06-15</td>\n",
              "      <td>NaN</td>\n",
              "      <td>0.17164</td>\n",
              "      <td>0.959200000</td>\n",
              "      <td>2022-05-26</td>\n",
              "    </tr>\n",
              "    <tr>\n",
              "      <th>704</th>\n",
              "      <td>CVE-2016-3393</td>\n",
              "      <td>Microsoft</td>\n",
              "      <td>Windows</td>\n",
              "      <td>Microsoft Windows Graphics Device Interface (G...</td>\n",
              "      <td>2022-05-25</td>\n",
              "      <td>A remote code execution vulnerability exists d...</td>\n",
              "      <td>Apply updates per vendor instructions.</td>\n",
              "      <td>2022-06-15</td>\n",
              "      <td>NaN</td>\n",
              "      <td>0.32828</td>\n",
              "      <td>0.975110000</td>\n",
              "      <td>2022-05-26</td>\n",
              "    </tr>\n",
              "    <tr>\n",
              "      <th>705</th>\n",
              "      <td>CVE-2016-7256</td>\n",
              "      <td>Microsoft</td>\n",
              "      <td>Windows</td>\n",
              "      <td>Microsoft Windows Open Type Font Remote Code E...</td>\n",
              "      <td>2022-05-25</td>\n",
              "      <td>A remote code execution vulnerability exists w...</td>\n",
              "      <td>Apply updates per vendor instructions.</td>\n",
              "      <td>2022-06-15</td>\n",
              "      <td>NaN</td>\n",
              "      <td>0.31179</td>\n",
              "      <td>0.974380000</td>\n",
              "      <td>2022-05-26</td>\n",
              "    </tr>\n",
              "    <tr>\n",
              "      <th>706</th>\n",
              "      <td>CVE-2016-1010</td>\n",
              "      <td>Adobe</td>\n",
              "      <td>Flash Player and AIR</td>\n",
              "      <td>Adobe Flash Player and AIR Integer Overflow Vu...</td>\n",
              "      <td>2022-05-25</td>\n",
              "      <td>Integer overflow vulnerability in Adobe Flash ...</td>\n",
              "      <td>The impacted products are end-of-life and shou...</td>\n",
              "      <td>2022-06-15</td>\n",
              "      <td>NaN</td>\n",
              "      <td>0.03731</td>\n",
              "      <td>0.838300000</td>\n",
              "      <td>2022-05-26</td>\n",
              "    </tr>\n",
              "    <tr>\n",
              "      <th>707</th>\n",
              "      <td>CVE-2016-0984</td>\n",
              "      <td>Adobe</td>\n",
              "      <td>Flash Player and AIR</td>\n",
              "      <td>Adobe Flash Player and AIR Use-After-Free Vuln...</td>\n",
              "      <td>2022-05-25</td>\n",
              "      <td>Use-after-free vulnerability in Adobe Flash Pl...</td>\n",
              "      <td>The impacted products are end-of-life and shou...</td>\n",
              "      <td>2022-06-15</td>\n",
              "      <td>NaN</td>\n",
              "      <td>0.84976</td>\n",
              "      <td>0.996390000</td>\n",
              "      <td>2022-05-26</td>\n",
              "    </tr>\n",
              "  </tbody>\n",
              "</table>\n",
              "</div>\n",
              "      <button class=\"colab-df-convert\" onclick=\"convertToInteractive('df-75b19775-177b-457c-b2dc-0ce2562458d5')\"\n",
              "              title=\"Convert this dataframe to an interactive table.\"\n",
              "              style=\"display:none;\">\n",
              "        \n",
              "  <svg xmlns=\"http://www.w3.org/2000/svg\" height=\"24px\"viewBox=\"0 0 24 24\"\n",
              "       width=\"24px\">\n",
              "    <path d=\"M0 0h24v24H0V0z\" fill=\"none\"/>\n",
              "    <path d=\"M18.56 5.44l.94 2.06.94-2.06 2.06-.94-2.06-.94-.94-2.06-.94 2.06-2.06.94zm-11 1L8.5 8.5l.94-2.06 2.06-.94-2.06-.94L8.5 2.5l-.94 2.06-2.06.94zm10 10l.94 2.06.94-2.06 2.06-.94-2.06-.94-.94-2.06-.94 2.06-2.06.94z\"/><path d=\"M17.41 7.96l-1.37-1.37c-.4-.4-.92-.59-1.43-.59-.52 0-1.04.2-1.43.59L10.3 9.45l-7.72 7.72c-.78.78-.78 2.05 0 2.83L4 21.41c.39.39.9.59 1.41.59.51 0 1.02-.2 1.41-.59l7.78-7.78 2.81-2.81c.8-.78.8-2.07 0-2.86zM5.41 20L4 18.59l7.72-7.72 1.47 1.35L5.41 20z\"/>\n",
              "  </svg>\n",
              "      </button>\n",
              "      \n",
              "  <style>\n",
              "    .colab-df-container {\n",
              "      display:flex;\n",
              "      flex-wrap:wrap;\n",
              "      gap: 12px;\n",
              "    }\n",
              "\n",
              "    .colab-df-convert {\n",
              "      background-color: #E8F0FE;\n",
              "      border: none;\n",
              "      border-radius: 50%;\n",
              "      cursor: pointer;\n",
              "      display: none;\n",
              "      fill: #1967D2;\n",
              "      height: 32px;\n",
              "      padding: 0 0 0 0;\n",
              "      width: 32px;\n",
              "    }\n",
              "\n",
              "    .colab-df-convert:hover {\n",
              "      background-color: #E2EBFA;\n",
              "      box-shadow: 0px 1px 2px rgba(60, 64, 67, 0.3), 0px 1px 3px 1px rgba(60, 64, 67, 0.15);\n",
              "      fill: #174EA6;\n",
              "    }\n",
              "\n",
              "    [theme=dark] .colab-df-convert {\n",
              "      background-color: #3B4455;\n",
              "      fill: #D2E3FC;\n",
              "    }\n",
              "\n",
              "    [theme=dark] .colab-df-convert:hover {\n",
              "      background-color: #434B5C;\n",
              "      box-shadow: 0px 1px 3px 1px rgba(0, 0, 0, 0.15);\n",
              "      filter: drop-shadow(0px 1px 2px rgba(0, 0, 0, 0.3));\n",
              "      fill: #FFFFFF;\n",
              "    }\n",
              "  </style>\n",
              "\n",
              "      <script>\n",
              "        const buttonEl =\n",
              "          document.querySelector('#df-75b19775-177b-457c-b2dc-0ce2562458d5 button.colab-df-convert');\n",
              "        buttonEl.style.display =\n",
              "          google.colab.kernel.accessAllowed ? 'block' : 'none';\n",
              "\n",
              "        async function convertToInteractive(key) {\n",
              "          const element = document.querySelector('#df-75b19775-177b-457c-b2dc-0ce2562458d5');\n",
              "          const dataTable =\n",
              "            await google.colab.kernel.invokeFunction('convertToInteractive',\n",
              "                                                     [key], {});\n",
              "          if (!dataTable) return;\n",
              "\n",
              "          const docLinkHtml = 'Like what you see? Visit the ' +\n",
              "            '<a target=\"_blank\" href=https://colab.research.google.com/notebooks/data_table.ipynb>data table notebook</a>'\n",
              "            + ' to learn more about interactive tables.';\n",
              "          element.innerHTML = '';\n",
              "          dataTable['output_type'] = 'display_data';\n",
              "          await google.colab.output.renderOutput(dataTable, element);\n",
              "          const docLink = document.createElement('div');\n",
              "          docLink.innerHTML = docLinkHtml;\n",
              "          element.appendChild(docLink);\n",
              "        }\n",
              "      </script>\n",
              "    </div>\n",
              "  </div>\n",
              "  "
            ]
          },
          "metadata": {},
          "execution_count": 79
        }
      ]
    },
    {
      "cell_type": "markdown",
      "source": [
        "# Sort by EPSS"
      ],
      "metadata": {
        "id": "qSwWCLkNBSHe"
      }
    },
    {
      "cell_type": "code",
      "source": [
        "# sort by epss\n",
        "enrich_df.sort_values(by='epss',ascending=False).plot.bar(x='cveID',y='epss',title='Top latest CISA by EPSS',figsize=(10,6))\n",
        "plt.show()"
      ],
      "metadata": {
        "colab": {
          "base_uri": "https://localhost:8080/",
          "height": 472
        },
        "id": "mCqs5pML_jqK",
        "outputId": "cf6c8a74-fed7-411a-a09b-a0a084736d21"
      },
      "execution_count": 84,
      "outputs": [
        {
          "output_type": "display_data",
          "data": {
            "text/plain": [
              "<Figure size 720x432 with 1 Axes>"
            ],
            "image/png": "[encoded data removed]"
          },
          "metadata": {
            "needs_background": "light"
          }
        }
      ]
    },
    {
      "cell_type": "code",
      "source": [
        ""
      ],
      "metadata": {
        "id": "19TPSIaE_6GQ"
      },
      "execution_count": null,
      "outputs": []
    }
  ]
}