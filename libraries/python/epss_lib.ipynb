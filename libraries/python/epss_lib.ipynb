{
  "cells": [
    {
      "cell_type": "code",
      "execution_count": 58,
      "metadata": {
        "id": "Q55EHKcA9pgu"
      },
      "outputs": [],
      "source": [
        "import requests\n",
        "import pandas as pd\n",
        "from datetime import datetime\n",
        "import logging\n",
        "\n",
        "class Status(object):\n",
        "    def __init__(self, **kwargs):\n",
        "        self.__dict__.update(kwargs)\n",
        "\n",
        "    def __str__(self):\n",
        "        return str(self.__dict__)\n",
        "\n",
        "class EPSS():\n",
        "\n",
        "  def __init__(self,api_url='https://api.first.org/data/v1/'):\n",
        "    self.api_url = api_url\n",
        "    self.raw_url = \"https://epss.cyentia.com/\"\n",
        "\n",
        "  def validate_date(self,date_text):\n",
        "    try:\n",
        "        datetime.strptime(date_text, '%Y-%m-%d')\n",
        "    except ValueError:\n",
        "        raise ValueError(\"Incorrect data format, should be YYYY-MM-DD\")\n",
        "\n",
        "  def get_all(self,date:str=None)-> pd.DataFrame:\n",
        "    if date is None:\n",
        "      day_url = self.raw_url + 'epss_scores-current.csv.gz'\n",
        "      date = datetime.today().strftime('%Y-%m-%d')\n",
        "    elif type(date) is str:\n",
        "        self.validate_date(date)\n",
        "        day_url = self.raw_url + 'epss_scores-{date}.csv.gz'\n",
        "    else:\n",
        "      raise Exception('Date is invalid')\n",
        "      \n",
        "    epss_df = pd.read_csv(day_url,compression='gzip',sep=',')\n",
        "    if len(epss_df) > 0 :\n",
        "      logging.info('Done with total rows = %d' % len(epss_df))\n",
        "      header = epss_df.iloc[0]\n",
        "      if len(header)==2:\n",
        "        version = header.index[0].split(':')[1]\n",
        "        score_date = ''.join(header.index[1].split(':')[1:])\n",
        "        epss_df.columns = epss_df.iloc[0]\n",
        "        num_df = epss_df.iloc[1:].copy()\n",
        "        del epss_df\n",
        "        num_df['epss']=num_df['epss'].astype('float')\n",
        "        num_df['percentile']=num_df['percentile'].astype('float')\n",
        "        num_df['date']=date\n",
        "        #num_df.set_index('cve',inplace=True)\n",
        "        status = Status(version=version,score_date=score_date)\n",
        "        return num_df,status\n",
        "      else:\n",
        "        raise Exception('EPSS format is malformed')\n",
        "\n",
        "  def get(self,cve=None,envelope:bool=True,pretty:bool=False,offset:int=None,limit:int=None,order:bool=True,sort_fields:list=None,\n",
        "          date:str=None,scope:str='public',epss_gt:float=None,epss_lt:float=None,fields:list=None,\n",
        "          percentile_gt:float=None,percentile_lt:float=None,q:str=None)-> pd.DataFrame:\n",
        "\n",
        "    '''\n",
        "    Refer to parameters here: https://api.first.org/#Global-parameters\n",
        "    '''\n",
        "    url = self.api_url + 'epss'\n",
        "\n",
        "    params = {}\n",
        "    if type(cve) is list:\n",
        "        params['cve'] = ','.join(cve)\n",
        "    if type(cve) is str:\n",
        "        params['cve'] = cve\n",
        "    if type(sort_fields) is list:\n",
        "        params['sort'] = ','.join(sort_fields)\n",
        "    if type(fields) is list:\n",
        "        params['fields'] = ','.join(fields)\n",
        "    if type(date) is str:\n",
        "        self.validate_date(date)\n",
        "        params['date'] = date\n",
        "    \n",
        "    params['envelope']=envelope\n",
        "    params['pretty']=pretty\n",
        "    params['offset']=offset\n",
        "    params['limit']=limit\n",
        "    params['scope']=scope\n",
        "    params['epss-gt']=epss_gt\n",
        "    params['epss-lt']=epss_lt\n",
        "    params['percentile-gt']=percentile_gt\n",
        "    params['percentile-lt']=percentile_lt\n",
        "    params['q']=q\n",
        " \n",
        "    if order == False: params['order']='!epss'\n",
        "    \n",
        "    r = requests.get(url,params)\n",
        "\n",
        "    if r.status_code == 200:\n",
        "        data_status = r.json()\n",
        "\n",
        "        if params['scope']=='public':\n",
        "          df = pd.json_normalize(data_status, 'data')\n",
        "          df.set_index('cve',inplace=True)\n",
        "        elif params['scope']=='time-series':\n",
        "          # iterate through each vulnerability\n",
        "          df = pd.json_normalize(data_status, 'data')\n",
        "          tmp = []\n",
        "          for idx,ts in df.iterrows():\n",
        "            tmp_df = pd.DataFrame(ts['time-series'])\n",
        "            tmp_df['cve']=ts['cve']\n",
        "            tmp_df = tmp_df.append(ts.drop(labels=['time-series']), ignore_index=True)\n",
        "            #tmp_df = pd.concat([tmp_df,ts.drop(labels=['time-series'])])\n",
        "            tmp.append(tmp_df)\n",
        "          df = pd.concat(tmp)\n",
        "          df.set_index('cve',inplace=True)\n",
        "        else:\n",
        "          raise Exception('Scope not supported')\n",
        "\n",
        "        del data_status['data']\n",
        "        if envelope is True:\n",
        "          status = Status(**data_status)\n",
        "        else:\n",
        "          status = None\n",
        "        return df,status\n",
        "    else:\n",
        "      raise Exception(f'HTTP errror {r.status_code}')\n",
        "\n"
      ]
    },
    {
      "cell_type": "code",
      "execution_count": 59,
      "metadata": {
        "colab": {
          "base_uri": "https://localhost:8080/"
        },
        "id": "7lon1jqT-AnV",
        "outputId": "2b15295d-9038-4fc9-9990-e11dc29969f4"
      },
      "outputs": [
        {
          "data": {
            "text/plain": [
              "Index(['CVE-2022-30524', 'CVE-2022-30335', 'CVE-2022-30334', 'CVE-2022-30333',\n",
              "       'CVE-2022-30330', 'CVE-2022-30295', 'CVE-2022-30294', 'CVE-2022-30293',\n",
              "       'CVE-2022-30292', 'CVE-2022-30288'],\n",
              "      dtype='object', name='cve')"
            ]
          },
          "execution_count": 59,
          "metadata": {},
          "output_type": "execute_result"
        }
      ],
      "source": [
        "epss = EPSS()\n",
        "data_df,status = epss.get(limit=10)\n",
        "assert len(data_df)==10\n",
        "assert data_df.columns.tolist()== ['epss', 'percentile', 'date']\n",
        "data_df.index"
      ]
    },
    {
      "cell_type": "code",
      "execution_count": 60,
      "metadata": {
        "colab": {
          "base_uri": "https://localhost:8080/",
          "height": 143
        },
        "id": "9YWZ8c4J-w2m",
        "outputId": "8139af22-6d77-4b67-fd7a-3bcd19eecd0a"
      },
      "outputs": [
        {
          "data": {
            "text/html": [
              "<div>\n",
              "<style scoped>\n",
              "    .dataframe tbody tr th:only-of-type {\n",
              "        vertical-align: middle;\n",
              "    }\n",
              "\n",
              "    .dataframe tbody tr th {\n",
              "        vertical-align: top;\n",
              "    }\n",
              "\n",
              "    .dataframe thead th {\n",
              "        text-align: right;\n",
              "    }\n",
              "</style>\n",
              "<table border=\"1\" class=\"dataframe\">\n",
              "  <thead>\n",
              "    <tr style=\"text-align: right;\">\n",
              "      <th></th>\n",
              "      <th>epss</th>\n",
              "      <th>percentile</th>\n",
              "      <th>date</th>\n",
              "    </tr>\n",
              "    <tr>\n",
              "      <th>cve</th>\n",
              "      <th></th>\n",
              "      <th></th>\n",
              "      <th></th>\n",
              "    </tr>\n",
              "  </thead>\n",
              "  <tbody>\n",
              "    <tr>\n",
              "      <th>CVE-2022-30524</th>\n",
              "      <td>0.010550000</td>\n",
              "      <td>0.488890000</td>\n",
              "      <td>2022-05-10</td>\n",
              "    </tr>\n",
              "    <tr>\n",
              "      <th>CVE-2022-30335</th>\n",
              "      <td>0.008900000</td>\n",
              "      <td>0.270660000</td>\n",
              "      <td>2022-05-10</td>\n",
              "    </tr>\n",
              "    <tr>\n",
              "      <th>CVE-2022-30334</th>\n",
              "      <td>0.009500000</td>\n",
              "      <td>0.290490000</td>\n",
              "      <td>2022-05-10</td>\n",
              "    </tr>\n",
              "    <tr>\n",
              "      <th>CVE-2022-30333</th>\n",
              "      <td>0.008850000</td>\n",
              "      <td>0.246880000</td>\n",
              "      <td>2022-05-10</td>\n",
              "    </tr>\n",
              "    <tr>\n",
              "      <th>CVE-2022-30330</th>\n",
              "      <td>0.008850000</td>\n",
              "      <td>0.246880000</td>\n",
              "      <td>2022-05-10</td>\n",
              "    </tr>\n",
              "    <tr>\n",
              "      <th>CVE-2022-30295</th>\n",
              "      <td>0.008850000</td>\n",
              "      <td>0.246880000</td>\n",
              "      <td>2022-05-10</td>\n",
              "    </tr>\n",
              "    <tr>\n",
              "      <th>CVE-2022-30294</th>\n",
              "      <td>0.008850000</td>\n",
              "      <td>0.246880000</td>\n",
              "      <td>2022-05-10</td>\n",
              "    </tr>\n",
              "    <tr>\n",
              "      <th>CVE-2022-30293</th>\n",
              "      <td>0.008850000</td>\n",
              "      <td>0.246880000</td>\n",
              "      <td>2022-05-10</td>\n",
              "    </tr>\n",
              "    <tr>\n",
              "      <th>CVE-2022-30292</th>\n",
              "      <td>0.008850000</td>\n",
              "      <td>0.246880000</td>\n",
              "      <td>2022-05-10</td>\n",
              "    </tr>\n",
              "    <tr>\n",
              "      <th>CVE-2022-30288</th>\n",
              "      <td>0.008900000</td>\n",
              "      <td>0.270660000</td>\n",
              "      <td>2022-05-10</td>\n",
              "    </tr>\n",
              "  </tbody>\n",
              "</table>\n",
              "</div>"
            ],
            "text/plain": [
              "                       epss   percentile        date\n",
              "cve                                                 \n",
              "CVE-2022-30524  0.010550000  0.488890000  2022-05-10\n",
              "CVE-2022-30335  0.008900000  0.270660000  2022-05-10\n",
              "CVE-2022-30334  0.009500000  0.290490000  2022-05-10\n",
              "CVE-2022-30333  0.008850000  0.246880000  2022-05-10\n",
              "CVE-2022-30330  0.008850000  0.246880000  2022-05-10\n",
              "CVE-2022-30295  0.008850000  0.246880000  2022-05-10\n",
              "CVE-2022-30294  0.008850000  0.246880000  2022-05-10\n",
              "CVE-2022-30293  0.008850000  0.246880000  2022-05-10\n",
              "CVE-2022-30292  0.008850000  0.246880000  2022-05-10\n",
              "CVE-2022-30288  0.008900000  0.270660000  2022-05-10"
            ]
          },
          "execution_count": 60,
          "metadata": {},
          "output_type": "execute_result"
        }
      ],
      "source": [
        "data_df,status = epss.get(sort_fields=['-epss'],limit=10)\n",
        "data_df"
      ]
    },
    {
      "cell_type": "code",
      "execution_count": 61,
      "metadata": {},
      "outputs": [
        {
          "data": {
            "text/html": [
              "<div>\n",
              "<style scoped>\n",
              "    .dataframe tbody tr th:only-of-type {\n",
              "        vertical-align: middle;\n",
              "    }\n",
              "\n",
              "    .dataframe tbody tr th {\n",
              "        vertical-align: top;\n",
              "    }\n",
              "\n",
              "    .dataframe thead th {\n",
              "        text-align: right;\n",
              "    }\n",
              "</style>\n",
              "<table border=\"1\" class=\"dataframe\">\n",
              "  <thead>\n",
              "    <tr style=\"text-align: right;\">\n",
              "      <th></th>\n",
              "      <th>epss</th>\n",
              "      <th>percentile</th>\n",
              "      <th>date</th>\n",
              "    </tr>\n",
              "    <tr>\n",
              "      <th>cve</th>\n",
              "      <th></th>\n",
              "      <th></th>\n",
              "      <th></th>\n",
              "    </tr>\n",
              "  </thead>\n",
              "  <tbody>\n",
              "    <tr>\n",
              "      <th>CVE-2022-30524</th>\n",
              "      <td>0.010550000</td>\n",
              "      <td>0.488890000</td>\n",
              "      <td>2022-05-10</td>\n",
              "    </tr>\n",
              "    <tr>\n",
              "      <th>CVE-2022-30335</th>\n",
              "      <td>0.008900000</td>\n",
              "      <td>0.270660000</td>\n",
              "      <td>2022-05-10</td>\n",
              "    </tr>\n",
              "    <tr>\n",
              "      <th>CVE-2022-30334</th>\n",
              "      <td>0.009500000</td>\n",
              "      <td>0.290490000</td>\n",
              "      <td>2022-05-10</td>\n",
              "    </tr>\n",
              "    <tr>\n",
              "      <th>CVE-2022-30333</th>\n",
              "      <td>0.008850000</td>\n",
              "      <td>0.246880000</td>\n",
              "      <td>2022-05-10</td>\n",
              "    </tr>\n",
              "    <tr>\n",
              "      <th>CVE-2022-30330</th>\n",
              "      <td>0.008850000</td>\n",
              "      <td>0.246880000</td>\n",
              "      <td>2022-05-10</td>\n",
              "    </tr>\n",
              "    <tr>\n",
              "      <th>CVE-2022-30295</th>\n",
              "      <td>0.008850000</td>\n",
              "      <td>0.246880000</td>\n",
              "      <td>2022-05-10</td>\n",
              "    </tr>\n",
              "    <tr>\n",
              "      <th>CVE-2022-30294</th>\n",
              "      <td>0.008850000</td>\n",
              "      <td>0.246880000</td>\n",
              "      <td>2022-05-10</td>\n",
              "    </tr>\n",
              "    <tr>\n",
              "      <th>CVE-2022-30293</th>\n",
              "      <td>0.008850000</td>\n",
              "      <td>0.246880000</td>\n",
              "      <td>2022-05-10</td>\n",
              "    </tr>\n",
              "    <tr>\n",
              "      <th>CVE-2022-30292</th>\n",
              "      <td>0.008850000</td>\n",
              "      <td>0.246880000</td>\n",
              "      <td>2022-05-10</td>\n",
              "    </tr>\n",
              "    <tr>\n",
              "      <th>CVE-2022-30288</th>\n",
              "      <td>0.008900000</td>\n",
              "      <td>0.270660000</td>\n",
              "      <td>2022-05-10</td>\n",
              "    </tr>\n",
              "  </tbody>\n",
              "</table>\n",
              "</div>"
            ],
            "text/plain": [
              "                       epss   percentile        date\n",
              "cve                                                 \n",
              "CVE-2022-30524  0.010550000  0.488890000  2022-05-10\n",
              "CVE-2022-30335  0.008900000  0.270660000  2022-05-10\n",
              "CVE-2022-30334  0.009500000  0.290490000  2022-05-10\n",
              "CVE-2022-30333  0.008850000  0.246880000  2022-05-10\n",
              "CVE-2022-30330  0.008850000  0.246880000  2022-05-10\n",
              "CVE-2022-30295  0.008850000  0.246880000  2022-05-10\n",
              "CVE-2022-30294  0.008850000  0.246880000  2022-05-10\n",
              "CVE-2022-30293  0.008850000  0.246880000  2022-05-10\n",
              "CVE-2022-30292  0.008850000  0.246880000  2022-05-10\n",
              "CVE-2022-30288  0.008900000  0.270660000  2022-05-10"
            ]
          },
          "execution_count": 61,
          "metadata": {},
          "output_type": "execute_result"
        }
      ],
      "source": [
        "data_df,status = epss.get(sort_fields=['+epss'],limit=10)\n",
        "data_df"
      ]
    },
    {
      "cell_type": "code",
      "execution_count": 62,
      "metadata": {},
      "outputs": [
        {
          "data": {
            "text/html": [
              "<div>\n",
              "<style scoped>\n",
              "    .dataframe tbody tr th:only-of-type {\n",
              "        vertical-align: middle;\n",
              "    }\n",
              "\n",
              "    .dataframe tbody tr th {\n",
              "        vertical-align: top;\n",
              "    }\n",
              "\n",
              "    .dataframe thead th {\n",
              "        text-align: right;\n",
              "    }\n",
              "</style>\n",
              "<table border=\"1\" class=\"dataframe\">\n",
              "  <thead>\n",
              "    <tr style=\"text-align: right;\">\n",
              "      <th></th>\n",
              "      <th>epss</th>\n",
              "    </tr>\n",
              "    <tr>\n",
              "      <th>cve</th>\n",
              "      <th></th>\n",
              "    </tr>\n",
              "  </thead>\n",
              "  <tbody>\n",
              "    <tr>\n",
              "      <th>CVE-2022-30524</th>\n",
              "      <td>0.010550000</td>\n",
              "    </tr>\n",
              "    <tr>\n",
              "      <th>CVE-2022-30335</th>\n",
              "      <td>0.008900000</td>\n",
              "    </tr>\n",
              "    <tr>\n",
              "      <th>CVE-2022-30334</th>\n",
              "      <td>0.009500000</td>\n",
              "    </tr>\n",
              "    <tr>\n",
              "      <th>CVE-2022-30333</th>\n",
              "      <td>0.008850000</td>\n",
              "    </tr>\n",
              "    <tr>\n",
              "      <th>CVE-2022-30330</th>\n",
              "      <td>0.008850000</td>\n",
              "    </tr>\n",
              "  </tbody>\n",
              "</table>\n",
              "</div>"
            ],
            "text/plain": [
              "                       epss\n",
              "cve                        \n",
              "CVE-2022-30524  0.010550000\n",
              "CVE-2022-30335  0.008900000\n",
              "CVE-2022-30334  0.009500000\n",
              "CVE-2022-30333  0.008850000\n",
              "CVE-2022-30330  0.008850000"
            ]
          },
          "execution_count": 62,
          "metadata": {},
          "output_type": "execute_result"
        }
      ],
      "source": [
        "data_df,status = epss.get(fields=['cve','epss'],limit=5)\n",
        "data_df"
      ]
    },
    {
      "cell_type": "code",
      "execution_count": 63,
      "metadata": {
        "colab": {
          "base_uri": "https://localhost:8080/",
          "height": 112
        },
        "id": "G1_FsUTG7Zzu",
        "outputId": "515ff4e8-68a3-47d0-f1e6-de1a8b48ab7b"
      },
      "outputs": [
        {
          "data": {
            "text/html": [
              "<div>\n",
              "<style scoped>\n",
              "    .dataframe tbody tr th:only-of-type {\n",
              "        vertical-align: middle;\n",
              "    }\n",
              "\n",
              "    .dataframe tbody tr th {\n",
              "        vertical-align: top;\n",
              "    }\n",
              "\n",
              "    .dataframe thead th {\n",
              "        text-align: right;\n",
              "    }\n",
              "</style>\n",
              "<table border=\"1\" class=\"dataframe\">\n",
              "  <thead>\n",
              "    <tr style=\"text-align: right;\">\n",
              "      <th></th>\n",
              "      <th>epss</th>\n",
              "      <th>percentile</th>\n",
              "      <th>date</th>\n",
              "    </tr>\n",
              "    <tr>\n",
              "      <th>cve</th>\n",
              "      <th></th>\n",
              "      <th></th>\n",
              "      <th></th>\n",
              "    </tr>\n",
              "  </thead>\n",
              "  <tbody>\n",
              "    <tr>\n",
              "      <th>CVE-2021-40438</th>\n",
              "      <td>0.972240000</td>\n",
              "      <td>1.000000000</td>\n",
              "      <td>2022-05-10</td>\n",
              "    </tr>\n",
              "    <tr>\n",
              "      <th>CVE-2017-12635</th>\n",
              "      <td>0.971090000</td>\n",
              "      <td>0.999990000</td>\n",
              "      <td>2022-05-10</td>\n",
              "    </tr>\n",
              "  </tbody>\n",
              "</table>\n",
              "</div>"
            ],
            "text/plain": [
              "                       epss   percentile        date\n",
              "cve                                                 \n",
              "CVE-2021-40438  0.972240000  1.000000000  2022-05-10\n",
              "CVE-2017-12635  0.971090000  0.999990000  2022-05-10"
            ]
          },
          "execution_count": 63,
          "metadata": {},
          "output_type": "execute_result"
        }
      ],
      "source": [
        "data_df,status = epss.get(order=False)\n",
        "data_df.head(2)"
      ]
    },
    {
      "cell_type": "code",
      "execution_count": 64,
      "metadata": {
        "colab": {
          "base_uri": "https://localhost:8080/"
        },
        "id": "f-deHgph6y_A",
        "outputId": "78e2f441-bbd3-4296-fd37-8d9fd308278e"
      },
      "outputs": [
        {
          "data": {
            "text/plain": [
              "(1, 3)"
            ]
          },
          "execution_count": 64,
          "metadata": {},
          "output_type": "execute_result"
        }
      ],
      "source": [
        "data_df,status = epss.get(epss_lt=0.0088)\n",
        "data_df.shape"
      ]
    },
    {
      "cell_type": "code",
      "execution_count": 65,
      "metadata": {
        "colab": {
          "base_uri": "https://localhost:8080/"
        },
        "id": "8F6hYkWa7Ahj",
        "outputId": "169cd152-e29d-4c72-ebee-8641cb55be82"
      },
      "outputs": [
        {
          "data": {
            "text/plain": [
              "(70, 3)"
            ]
          },
          "execution_count": 65,
          "metadata": {},
          "output_type": "execute_result"
        }
      ],
      "source": [
        "data_df,status = epss.get(epss_gt=0.95)\n",
        "data_df.shape"
      ]
    },
    {
      "cell_type": "code",
      "execution_count": 66,
      "metadata": {
        "colab": {
          "base_uri": "https://localhost:8080/"
        },
        "id": "iFCLRXh18X4p",
        "outputId": "ea71c2b9-2a4e-4104-88c2-56586bcce643"
      },
      "outputs": [
        {
          "data": {
            "text/plain": [
              "(100, 3)"
            ]
          },
          "execution_count": 66,
          "metadata": {},
          "output_type": "execute_result"
        }
      ],
      "source": [
        "data_df,status = epss.get(percentile_gt=0.98)\n",
        "data_df.shape"
      ]
    },
    {
      "cell_type": "code",
      "execution_count": 67,
      "metadata": {
        "colab": {
          "base_uri": "https://localhost:8080/"
        },
        "id": "H_4IU0E98cjM",
        "outputId": "2cd07d0c-e42a-48a0-b58a-5d5df246e683"
      },
      "outputs": [
        {
          "data": {
            "text/plain": [
              "(1, 3)"
            ]
          },
          "execution_count": 67,
          "metadata": {},
          "output_type": "execute_result"
        }
      ],
      "source": [
        "data_df,status = epss.get(percentile_lt=0.1)\n",
        "data_df.shape"
      ]
    },
    {
      "cell_type": "code",
      "execution_count": 68,
      "metadata": {
        "colab": {
          "base_uri": "https://localhost:8080/",
          "height": 80
        },
        "id": "wOzrT-RovVkS",
        "outputId": "fcd3cdbb-02ba-419d-f98c-ac23d0a02f1d"
      },
      "outputs": [
        {
          "data": {
            "text/html": [
              "<div>\n",
              "<style scoped>\n",
              "    .dataframe tbody tr th:only-of-type {\n",
              "        vertical-align: middle;\n",
              "    }\n",
              "\n",
              "    .dataframe tbody tr th {\n",
              "        vertical-align: top;\n",
              "    }\n",
              "\n",
              "    .dataframe thead th {\n",
              "        text-align: right;\n",
              "    }\n",
              "</style>\n",
              "<table border=\"1\" class=\"dataframe\">\n",
              "  <thead>\n",
              "    <tr style=\"text-align: right;\">\n",
              "      <th></th>\n",
              "      <th>epss</th>\n",
              "      <th>percentile</th>\n",
              "      <th>date</th>\n",
              "    </tr>\n",
              "    <tr>\n",
              "      <th>cve</th>\n",
              "      <th></th>\n",
              "      <th></th>\n",
              "      <th></th>\n",
              "    </tr>\n",
              "  </thead>\n",
              "  <tbody>\n",
              "    <tr>\n",
              "      <th>CVE-2022-27225</th>\n",
              "      <td>0.008850000</td>\n",
              "      <td>0.246880000</td>\n",
              "      <td>2022-05-10</td>\n",
              "    </tr>\n",
              "  </tbody>\n",
              "</table>\n",
              "</div>"
            ],
            "text/plain": [
              "                       epss   percentile        date\n",
              "cve                                                 \n",
              "CVE-2022-27225  0.008850000  0.246880000  2022-05-10"
            ]
          },
          "execution_count": 68,
          "metadata": {},
          "output_type": "execute_result"
        }
      ],
      "source": [
        "data_df,status = epss.get(cve='CVE-2022-27225',envelope=False)\n",
        "data_df"
      ]
    },
    {
      "cell_type": "code",
      "execution_count": 69,
      "metadata": {
        "id": "k9V2Yp1Sx_PS"
      },
      "outputs": [],
      "source": [
        "status"
      ]
    },
    {
      "cell_type": "code",
      "execution_count": 70,
      "metadata": {
        "colab": {
          "base_uri": "https://localhost:8080/",
          "height": 143
        },
        "id": "-tfVlTL_wovv",
        "outputId": "8a7ab08d-66f1-4b70-9b38-af63dcadf6b5"
      },
      "outputs": [
        {
          "data": {
            "text/html": [
              "<div>\n",
              "<style scoped>\n",
              "    .dataframe tbody tr th:only-of-type {\n",
              "        vertical-align: middle;\n",
              "    }\n",
              "\n",
              "    .dataframe tbody tr th {\n",
              "        vertical-align: top;\n",
              "    }\n",
              "\n",
              "    .dataframe thead th {\n",
              "        text-align: right;\n",
              "    }\n",
              "</style>\n",
              "<table border=\"1\" class=\"dataframe\">\n",
              "  <thead>\n",
              "    <tr style=\"text-align: right;\">\n",
              "      <th></th>\n",
              "      <th>epss</th>\n",
              "      <th>percentile</th>\n",
              "      <th>date</th>\n",
              "    </tr>\n",
              "    <tr>\n",
              "      <th>cve</th>\n",
              "      <th></th>\n",
              "      <th></th>\n",
              "      <th></th>\n",
              "    </tr>\n",
              "  </thead>\n",
              "  <tbody>\n",
              "    <tr>\n",
              "      <th>CVE-2022-27225</th>\n",
              "      <td>0.008850000</td>\n",
              "      <td>0.246880000</td>\n",
              "      <td>2022-05-10</td>\n",
              "    </tr>\n",
              "    <tr>\n",
              "      <th>CVE-2022-27223</th>\n",
              "      <td>0.008900000</td>\n",
              "      <td>0.270660000</td>\n",
              "      <td>2022-05-10</td>\n",
              "    </tr>\n",
              "    <tr>\n",
              "      <th>CVE-2022-27218</th>\n",
              "      <td>0.008850000</td>\n",
              "      <td>0.246880000</td>\n",
              "      <td>2022-05-10</td>\n",
              "    </tr>\n",
              "  </tbody>\n",
              "</table>\n",
              "</div>"
            ],
            "text/plain": [
              "                       epss   percentile        date\n",
              "cve                                                 \n",
              "CVE-2022-27225  0.008850000  0.246880000  2022-05-10\n",
              "CVE-2022-27223  0.008900000  0.270660000  2022-05-10\n",
              "CVE-2022-27218  0.008850000  0.246880000  2022-05-10"
            ]
          },
          "execution_count": 70,
          "metadata": {},
          "output_type": "execute_result"
        }
      ],
      "source": [
        "cve_list = ['CVE-2022-27225','CVE-2022-27223','CVE-2022-27218']\n",
        "data_df,status = epss.get(cve=cve_list)\n",
        "data_df"
      ]
    },
    {
      "cell_type": "code",
      "execution_count": 71,
      "metadata": {
        "colab": {
          "base_uri": "https://localhost:8080/",
          "height": 423
        },
        "id": "h7lCTccyxNML",
        "outputId": "d25efd2f-8e9a-488e-adb5-2c1d71693391"
      },
      "outputs": [
        {
          "data": {
            "text/html": [
              "<div>\n",
              "<style scoped>\n",
              "    .dataframe tbody tr th:only-of-type {\n",
              "        vertical-align: middle;\n",
              "    }\n",
              "\n",
              "    .dataframe tbody tr th {\n",
              "        vertical-align: top;\n",
              "    }\n",
              "\n",
              "    .dataframe thead th {\n",
              "        text-align: right;\n",
              "    }\n",
              "</style>\n",
              "<table border=\"1\" class=\"dataframe\">\n",
              "  <thead>\n",
              "    <tr style=\"text-align: right;\">\n",
              "      <th></th>\n",
              "      <th>epss</th>\n",
              "      <th>percentile</th>\n",
              "      <th>date</th>\n",
              "    </tr>\n",
              "    <tr>\n",
              "      <th>cve</th>\n",
              "      <th></th>\n",
              "      <th></th>\n",
              "      <th></th>\n",
              "    </tr>\n",
              "  </thead>\n",
              "  <tbody>\n",
              "    <tr>\n",
              "      <th>CVE-2022-26332</th>\n",
              "      <td>0.008850000</td>\n",
              "      <td>0.111530000</td>\n",
              "      <td>2022-03-01</td>\n",
              "    </tr>\n",
              "    <tr>\n",
              "      <th>CVE-2022-26315</th>\n",
              "      <td>0.008850000</td>\n",
              "      <td>0.111530000</td>\n",
              "      <td>2022-03-01</td>\n",
              "    </tr>\n",
              "    <tr>\n",
              "      <th>CVE-2022-26181</th>\n",
              "      <td>0.008900000</td>\n",
              "      <td>0.127680000</td>\n",
              "      <td>2022-03-01</td>\n",
              "    </tr>\n",
              "    <tr>\n",
              "      <th>CVE-2022-26159</th>\n",
              "      <td>0.014120000</td>\n",
              "      <td>0.507330000</td>\n",
              "      <td>2022-03-01</td>\n",
              "    </tr>\n",
              "    <tr>\n",
              "      <th>CVE-2022-26158</th>\n",
              "      <td>0.008850000</td>\n",
              "      <td>0.111530000</td>\n",
              "      <td>2022-03-01</td>\n",
              "    </tr>\n",
              "    <tr>\n",
              "      <th>...</th>\n",
              "      <td>...</td>\n",
              "      <td>...</td>\n",
              "      <td>...</td>\n",
              "    </tr>\n",
              "    <tr>\n",
              "      <th>CVE-2022-25206</th>\n",
              "      <td>0.008850000</td>\n",
              "      <td>0.111530000</td>\n",
              "      <td>2022-03-01</td>\n",
              "    </tr>\n",
              "    <tr>\n",
              "      <th>CVE-2022-25205</th>\n",
              "      <td>0.008850000</td>\n",
              "      <td>0.111530000</td>\n",
              "      <td>2022-03-01</td>\n",
              "    </tr>\n",
              "    <tr>\n",
              "      <th>CVE-2022-25204</th>\n",
              "      <td>0.008850000</td>\n",
              "      <td>0.111530000</td>\n",
              "      <td>2022-03-01</td>\n",
              "    </tr>\n",
              "    <tr>\n",
              "      <th>CVE-2022-25203</th>\n",
              "      <td>0.008850000</td>\n",
              "      <td>0.111530000</td>\n",
              "      <td>2022-03-01</td>\n",
              "    </tr>\n",
              "    <tr>\n",
              "      <th>CVE-2022-25202</th>\n",
              "      <td>0.008850000</td>\n",
              "      <td>0.111530000</td>\n",
              "      <td>2022-03-01</td>\n",
              "    </tr>\n",
              "  </tbody>\n",
              "</table>\n",
              "<p>100 rows × 3 columns</p>\n",
              "</div>"
            ],
            "text/plain": [
              "                       epss   percentile        date\n",
              "cve                                                 \n",
              "CVE-2022-26332  0.008850000  0.111530000  2022-03-01\n",
              "CVE-2022-26315  0.008850000  0.111530000  2022-03-01\n",
              "CVE-2022-26181  0.008900000  0.127680000  2022-03-01\n",
              "CVE-2022-26159  0.014120000  0.507330000  2022-03-01\n",
              "CVE-2022-26158  0.008850000  0.111530000  2022-03-01\n",
              "...                     ...          ...         ...\n",
              "CVE-2022-25206  0.008850000  0.111530000  2022-03-01\n",
              "CVE-2022-25205  0.008850000  0.111530000  2022-03-01\n",
              "CVE-2022-25204  0.008850000  0.111530000  2022-03-01\n",
              "CVE-2022-25203  0.008850000  0.111530000  2022-03-01\n",
              "CVE-2022-25202  0.008850000  0.111530000  2022-03-01\n",
              "\n",
              "[100 rows x 3 columns]"
            ]
          },
          "execution_count": 71,
          "metadata": {},
          "output_type": "execute_result"
        }
      ],
      "source": [
        "data_df,status = epss.get(date='2022-03-01')\n",
        "data_df"
      ]
    },
    {
      "cell_type": "code",
      "execution_count": 72,
      "metadata": {
        "colab": {
          "base_uri": "https://localhost:8080/",
          "height": 423
        },
        "id": "guqW-VRsy9to",
        "outputId": "8df54279-e5f6-4c13-e779-8741f48e6916"
      },
      "outputs": [
        {
          "data": {
            "text/html": [
              "<div>\n",
              "<style scoped>\n",
              "    .dataframe tbody tr th:only-of-type {\n",
              "        vertical-align: middle;\n",
              "    }\n",
              "\n",
              "    .dataframe tbody tr th {\n",
              "        vertical-align: top;\n",
              "    }\n",
              "\n",
              "    .dataframe thead th {\n",
              "        text-align: right;\n",
              "    }\n",
              "</style>\n",
              "<table border=\"1\" class=\"dataframe\">\n",
              "  <thead>\n",
              "    <tr style=\"text-align: right;\">\n",
              "      <th></th>\n",
              "      <th>epss</th>\n",
              "      <th>percentile</th>\n",
              "      <th>date</th>\n",
              "      <th>0</th>\n",
              "    </tr>\n",
              "    <tr>\n",
              "      <th>cve</th>\n",
              "      <th></th>\n",
              "      <th></th>\n",
              "      <th></th>\n",
              "      <th></th>\n",
              "    </tr>\n",
              "  </thead>\n",
              "  <tbody>\n",
              "    <tr>\n",
              "      <th>CVE-2022-27225</th>\n",
              "      <td>0.008850000</td>\n",
              "      <td>0.246670000</td>\n",
              "      <td>2022-05-09</td>\n",
              "      <td>NaN</td>\n",
              "    </tr>\n",
              "    <tr>\n",
              "      <th>CVE-2022-27225</th>\n",
              "      <td>0.008850000</td>\n",
              "      <td>0.246670000</td>\n",
              "      <td>2022-05-08</td>\n",
              "      <td>NaN</td>\n",
              "    </tr>\n",
              "    <tr>\n",
              "      <th>CVE-2022-27225</th>\n",
              "      <td>0.008850000</td>\n",
              "      <td>0.246640000</td>\n",
              "      <td>2022-05-07</td>\n",
              "      <td>NaN</td>\n",
              "    </tr>\n",
              "    <tr>\n",
              "      <th>CVE-2022-27225</th>\n",
              "      <td>0.008850000</td>\n",
              "      <td>0.246590000</td>\n",
              "      <td>2022-05-06</td>\n",
              "      <td>NaN</td>\n",
              "    </tr>\n",
              "    <tr>\n",
              "      <th>CVE-2022-27225</th>\n",
              "      <td>0.008850000</td>\n",
              "      <td>0.246240000</td>\n",
              "      <td>2022-05-05</td>\n",
              "      <td>NaN</td>\n",
              "    </tr>\n",
              "    <tr>\n",
              "      <th>...</th>\n",
              "      <td>...</td>\n",
              "      <td>...</td>\n",
              "      <td>...</td>\n",
              "      <td>...</td>\n",
              "    </tr>\n",
              "    <tr>\n",
              "      <th>CVE-2022-27218</th>\n",
              "      <td>0.008850000</td>\n",
              "      <td>0.243270000</td>\n",
              "      <td>2022-04-10</td>\n",
              "      <td>NaN</td>\n",
              "    </tr>\n",
              "    <tr>\n",
              "      <th>NaN</th>\n",
              "      <td>NaN</td>\n",
              "      <td>NaN</td>\n",
              "      <td>NaN</td>\n",
              "      <td>CVE-2022-27218</td>\n",
              "    </tr>\n",
              "    <tr>\n",
              "      <th>NaN</th>\n",
              "      <td>NaN</td>\n",
              "      <td>NaN</td>\n",
              "      <td>NaN</td>\n",
              "      <td>0.008850000</td>\n",
              "    </tr>\n",
              "    <tr>\n",
              "      <th>NaN</th>\n",
              "      <td>NaN</td>\n",
              "      <td>NaN</td>\n",
              "      <td>NaN</td>\n",
              "      <td>0.246880000</td>\n",
              "    </tr>\n",
              "    <tr>\n",
              "      <th>NaN</th>\n",
              "      <td>NaN</td>\n",
              "      <td>NaN</td>\n",
              "      <td>NaN</td>\n",
              "      <td>2022-05-10</td>\n",
              "    </tr>\n",
              "  </tbody>\n",
              "</table>\n",
              "<p>102 rows × 4 columns</p>\n",
              "</div>"
            ],
            "text/plain": [
              "                       epss   percentile        date               0\n",
              "cve                                                                 \n",
              "CVE-2022-27225  0.008850000  0.246670000  2022-05-09             NaN\n",
              "CVE-2022-27225  0.008850000  0.246670000  2022-05-08             NaN\n",
              "CVE-2022-27225  0.008850000  0.246640000  2022-05-07             NaN\n",
              "CVE-2022-27225  0.008850000  0.246590000  2022-05-06             NaN\n",
              "CVE-2022-27225  0.008850000  0.246240000  2022-05-05             NaN\n",
              "...                     ...          ...         ...             ...\n",
              "CVE-2022-27218  0.008850000  0.243270000  2022-04-10             NaN\n",
              "NaN                     NaN          NaN         NaN  CVE-2022-27218\n",
              "NaN                     NaN          NaN         NaN     0.008850000\n",
              "NaN                     NaN          NaN         NaN     0.246880000\n",
              "NaN                     NaN          NaN         NaN      2022-05-10\n",
              "\n",
              "[102 rows x 4 columns]"
            ]
          },
          "execution_count": 72,
          "metadata": {},
          "output_type": "execute_result"
        }
      ],
      "source": [
        "data_df,status = epss.get(cve=cve_list,scope='time-series')\n",
        "data_df"
      ]
    },
    {
      "cell_type": "code",
      "execution_count": 57,
      "metadata": {
        "colab": {
          "base_uri": "https://localhost:8080/",
          "height": 1000
        },
        "id": "ZzQpmB0d0zSd",
        "outputId": "dfd05938-9d79-4759-8afd-e9f67e6c9077"
      },
      "outputs": [
        {
          "name": "stderr",
          "output_type": "stream",
          "text": [
            "C:\\Users\\robom\\AppData\\Local\\Temp\\ipykernel_40540\\3998398855.py:104: FutureWarning: The frame.append method is deprecated and will be removed from pandas in a future version. Use pandas.concat instead.\n",
            "  tmp_df = tmp_df.append(ts.drop(labels=['time-series']), ignore_index=True)\n"
          ]
        },
        {
          "data": {
            "text/html": [
              "<div>\n",
              "<style scoped>\n",
              "    .dataframe tbody tr th:only-of-type {\n",
              "        vertical-align: middle;\n",
              "    }\n",
              "\n",
              "    .dataframe tbody tr th {\n",
              "        vertical-align: top;\n",
              "    }\n",
              "\n",
              "    .dataframe thead th {\n",
              "        text-align: right;\n",
              "    }\n",
              "</style>\n",
              "<table border=\"1\" class=\"dataframe\">\n",
              "  <thead>\n",
              "    <tr style=\"text-align: right;\">\n",
              "      <th></th>\n",
              "      <th>epss</th>\n",
              "      <th>percentile</th>\n",
              "      <th>date</th>\n",
              "    </tr>\n",
              "    <tr>\n",
              "      <th>cve</th>\n",
              "      <th></th>\n",
              "      <th></th>\n",
              "      <th></th>\n",
              "    </tr>\n",
              "  </thead>\n",
              "  <tbody>\n",
              "    <tr>\n",
              "      <th>CVE-2022-27225</th>\n",
              "      <td>0.008850000</td>\n",
              "      <td>0.246670000</td>\n",
              "      <td>2022-05-09</td>\n",
              "    </tr>\n",
              "    <tr>\n",
              "      <th>CVE-2022-27225</th>\n",
              "      <td>0.008850000</td>\n",
              "      <td>0.246670000</td>\n",
              "      <td>2022-05-08</td>\n",
              "    </tr>\n",
              "    <tr>\n",
              "      <th>CVE-2022-27225</th>\n",
              "      <td>0.008850000</td>\n",
              "      <td>0.246640000</td>\n",
              "      <td>2022-05-07</td>\n",
              "    </tr>\n",
              "    <tr>\n",
              "      <th>CVE-2022-27225</th>\n",
              "      <td>0.008850000</td>\n",
              "      <td>0.246590000</td>\n",
              "      <td>2022-05-06</td>\n",
              "    </tr>\n",
              "  </tbody>\n",
              "</table>\n",
              "</div>"
            ],
            "text/plain": [
              "                       epss   percentile        date\n",
              "cve                                                 \n",
              "CVE-2022-27225  0.008850000  0.246670000  2022-05-09\n",
              "CVE-2022-27225  0.008850000  0.246670000  2022-05-08\n",
              "CVE-2022-27225  0.008850000  0.246640000  2022-05-07\n",
              "CVE-2022-27225  0.008850000  0.246590000  2022-05-06"
            ]
          },
          "execution_count": 57,
          "metadata": {},
          "output_type": "execute_result"
        }
      ],
      "source": [
        "data_df,status = epss.get(cve='CVE-2022-27225',scope='time-series')\n",
        "data_df.head(4)"
      ]
    },
    {
      "cell_type": "code",
      "execution_count": 56,
      "metadata": {
        "id": "z3wSlWjl6S1A"
      },
      "outputs": [
        {
          "data": {
            "text/html": [
              "<div>\n",
              "<style scoped>\n",
              "    .dataframe tbody tr th:only-of-type {\n",
              "        vertical-align: middle;\n",
              "    }\n",
              "\n",
              "    .dataframe tbody tr th {\n",
              "        vertical-align: top;\n",
              "    }\n",
              "\n",
              "    .dataframe thead th {\n",
              "        text-align: right;\n",
              "    }\n",
              "</style>\n",
              "<table border=\"1\" class=\"dataframe\">\n",
              "  <thead>\n",
              "    <tr style=\"text-align: right;\">\n",
              "      <th>cve</th>\n",
              "      <th>epss</th>\n",
              "      <th>percentile</th>\n",
              "      <th>date</th>\n",
              "    </tr>\n",
              "  </thead>\n",
              "  <tbody>\n",
              "    <tr>\n",
              "      <th>CVE-2007-2447</th>\n",
              "      <td>0.79403</td>\n",
              "      <td>0.99430</td>\n",
              "      <td>2022-05-11</td>\n",
              "    </tr>\n",
              "    <tr>\n",
              "      <th>CVE-2022-23852</th>\n",
              "      <td>0.12300</td>\n",
              "      <td>0.94975</td>\n",
              "      <td>2022-05-11</td>\n",
              "    </tr>\n",
              "    <tr>\n",
              "      <th>CVE-2022-1388</th>\n",
              "      <td>0.23579</td>\n",
              "      <td>0.96506</td>\n",
              "      <td>2022-05-11</td>\n",
              "    </tr>\n",
              "    <tr>\n",
              "      <th>CVE-2020-25540</th>\n",
              "      <td>0.73957</td>\n",
              "      <td>0.99229</td>\n",
              "      <td>2022-05-11</td>\n",
              "    </tr>\n",
              "  </tbody>\n",
              "</table>\n",
              "</div>"
            ],
            "text/plain": [
              "cve                epss  percentile        date\n",
              "CVE-2007-2447   0.79403     0.99430  2022-05-11\n",
              "CVE-2022-23852  0.12300     0.94975  2022-05-11\n",
              "CVE-2022-1388   0.23579     0.96506  2022-05-11\n",
              "CVE-2020-25540  0.73957     0.99229  2022-05-11"
            ]
          },
          "execution_count": 56,
          "metadata": {},
          "output_type": "execute_result"
        }
      ],
      "source": [
        "all_df,status = epss.get_all()\n",
        "assert len(all_df)>1000\n",
        "assert all_df.columns.tolist()== ['epss', 'percentile', 'date']\n",
        "all_df.head(4)"
      ]
    },
    {
      "cell_type": "code",
      "execution_count": null,
      "metadata": {},
      "outputs": [],
      "source": []
    }
  ],
  "metadata": {
    "colab": {
      "collapsed_sections": [],
      "name": "epss_lib.ipynb",
      "provenance": []
    },
    "interpreter": {
      "hash": "af6884b45a73264763f36d110d675e21c5b9ede8d799332244b48ac88600c464"
    },
    "kernelspec": {
      "display_name": "Python 3.8.13 ('epss')",
      "language": "python",
      "name": "python3"
    },
    "language_info": {
      "codemirror_mode": {
        "name": "ipython",
        "version": 3
      },
      "file_extension": ".py",
      "mimetype": "text/x-python",
      "name": "python",
      "nbconvert_exporter": "python",
      "pygments_lexer": "ipython3",
      "version": "3.8.13"
    }
  },
  "nbformat": 4,
  "nbformat_minor": 0
}
